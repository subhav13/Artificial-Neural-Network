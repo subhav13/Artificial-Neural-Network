{
 "cells": [
  {
   "cell_type": "code",
   "execution_count": 30,
   "metadata": {},
   "outputs": [],
   "source": [
    "import pandas as pd\n",
    "import numpy as np\n",
    "import matplotlib.pyplot as plt "
   ]
  },
  {
   "cell_type": "markdown",
   "metadata": {},
   "source": [
    "# Data Preprocessing "
   ]
  },
  {
   "cell_type": "code",
   "execution_count": 31,
   "metadata": {},
   "outputs": [
    {
     "data": {
      "text/html": [
       "<div>\n",
       "<style scoped>\n",
       "    .dataframe tbody tr th:only-of-type {\n",
       "        vertical-align: middle;\n",
       "    }\n",
       "\n",
       "    .dataframe tbody tr th {\n",
       "        vertical-align: top;\n",
       "    }\n",
       "\n",
       "    .dataframe thead th {\n",
       "        text-align: right;\n",
       "    }\n",
       "</style>\n",
       "<table border=\"1\" class=\"dataframe\">\n",
       "  <thead>\n",
       "    <tr style=\"text-align: right;\">\n",
       "      <th></th>\n",
       "      <th>RowNumber</th>\n",
       "      <th>CustomerId</th>\n",
       "      <th>Surname</th>\n",
       "      <th>CreditScore</th>\n",
       "      <th>Geography</th>\n",
       "      <th>Gender</th>\n",
       "      <th>Age</th>\n",
       "      <th>Tenure</th>\n",
       "      <th>Balance</th>\n",
       "      <th>NumOfProducts</th>\n",
       "      <th>HasCrCard</th>\n",
       "      <th>IsActiveMember</th>\n",
       "      <th>EstimatedSalary</th>\n",
       "      <th>Exited</th>\n",
       "    </tr>\n",
       "  </thead>\n",
       "  <tbody>\n",
       "    <tr>\n",
       "      <th>0</th>\n",
       "      <td>1</td>\n",
       "      <td>15634602</td>\n",
       "      <td>Hargrave</td>\n",
       "      <td>619</td>\n",
       "      <td>France</td>\n",
       "      <td>Female</td>\n",
       "      <td>42</td>\n",
       "      <td>2</td>\n",
       "      <td>0.00</td>\n",
       "      <td>1</td>\n",
       "      <td>1</td>\n",
       "      <td>1</td>\n",
       "      <td>101348.88</td>\n",
       "      <td>1</td>\n",
       "    </tr>\n",
       "    <tr>\n",
       "      <th>1</th>\n",
       "      <td>2</td>\n",
       "      <td>15647311</td>\n",
       "      <td>Hill</td>\n",
       "      <td>608</td>\n",
       "      <td>Spain</td>\n",
       "      <td>Female</td>\n",
       "      <td>41</td>\n",
       "      <td>1</td>\n",
       "      <td>83807.86</td>\n",
       "      <td>1</td>\n",
       "      <td>0</td>\n",
       "      <td>1</td>\n",
       "      <td>112542.58</td>\n",
       "      <td>0</td>\n",
       "    </tr>\n",
       "    <tr>\n",
       "      <th>2</th>\n",
       "      <td>3</td>\n",
       "      <td>15619304</td>\n",
       "      <td>Onio</td>\n",
       "      <td>502</td>\n",
       "      <td>France</td>\n",
       "      <td>Female</td>\n",
       "      <td>42</td>\n",
       "      <td>8</td>\n",
       "      <td>159660.80</td>\n",
       "      <td>3</td>\n",
       "      <td>1</td>\n",
       "      <td>0</td>\n",
       "      <td>113931.57</td>\n",
       "      <td>1</td>\n",
       "    </tr>\n",
       "    <tr>\n",
       "      <th>3</th>\n",
       "      <td>4</td>\n",
       "      <td>15701354</td>\n",
       "      <td>Boni</td>\n",
       "      <td>699</td>\n",
       "      <td>France</td>\n",
       "      <td>Female</td>\n",
       "      <td>39</td>\n",
       "      <td>1</td>\n",
       "      <td>0.00</td>\n",
       "      <td>2</td>\n",
       "      <td>0</td>\n",
       "      <td>0</td>\n",
       "      <td>93826.63</td>\n",
       "      <td>0</td>\n",
       "    </tr>\n",
       "    <tr>\n",
       "      <th>4</th>\n",
       "      <td>5</td>\n",
       "      <td>15737888</td>\n",
       "      <td>Mitchell</td>\n",
       "      <td>850</td>\n",
       "      <td>Spain</td>\n",
       "      <td>Female</td>\n",
       "      <td>43</td>\n",
       "      <td>2</td>\n",
       "      <td>125510.82</td>\n",
       "      <td>1</td>\n",
       "      <td>1</td>\n",
       "      <td>1</td>\n",
       "      <td>79084.10</td>\n",
       "      <td>0</td>\n",
       "    </tr>\n",
       "  </tbody>\n",
       "</table>\n",
       "</div>"
      ],
      "text/plain": [
       "   RowNumber  CustomerId   Surname  CreditScore Geography  Gender  Age  \\\n",
       "0          1    15634602  Hargrave          619    France  Female   42   \n",
       "1          2    15647311      Hill          608     Spain  Female   41   \n",
       "2          3    15619304      Onio          502    France  Female   42   \n",
       "3          4    15701354      Boni          699    France  Female   39   \n",
       "4          5    15737888  Mitchell          850     Spain  Female   43   \n",
       "\n",
       "   Tenure    Balance  NumOfProducts  HasCrCard  IsActiveMember  \\\n",
       "0       2       0.00              1          1               1   \n",
       "1       1   83807.86              1          0               1   \n",
       "2       8  159660.80              3          1               0   \n",
       "3       1       0.00              2          0               0   \n",
       "4       2  125510.82              1          1               1   \n",
       "\n",
       "   EstimatedSalary  Exited  \n",
       "0        101348.88       1  \n",
       "1        112542.58       0  \n",
       "2        113931.57       1  \n",
       "3         93826.63       0  \n",
       "4         79084.10       0  "
      ]
     },
     "execution_count": 31,
     "metadata": {},
     "output_type": "execute_result"
    }
   ],
   "source": [
    "ds = pd.read_csv('Churn_Modelling.csv')\n",
    "ds.head()"
   ]
  },
  {
   "cell_type": "code",
   "execution_count": 32,
   "metadata": {},
   "outputs": [],
   "source": [
    "x = ds.iloc[:,3:13].values\n",
    "y = ds.iloc[:,13].values"
   ]
  },
  {
   "cell_type": "code",
   "execution_count": 34,
   "metadata": {},
   "outputs": [
    {
     "data": {
      "text/plain": [
       "array([[     0,      0,    619, ...,      1,      1, 101348],\n",
       "       [     0,      1,    608, ...,      0,      1, 112542],\n",
       "       [     0,      0,    502, ...,      1,      0, 113931],\n",
       "       ...,\n",
       "       [     0,      0,    709, ...,      0,      1,  42085],\n",
       "       [     1,      0,    772, ...,      1,      0,  92888],\n",
       "       [     0,      0,    792, ...,      1,      0,  38190]])"
      ]
     },
     "execution_count": 34,
     "metadata": {},
     "output_type": "execute_result"
    }
   ],
   "source": [
    "x.astype('int')"
   ]
  },
  {
   "cell_type": "code",
   "execution_count": 33,
   "metadata": {},
   "outputs": [],
   "source": [
    "# Encoding Categorical Data\n",
    "from sklearn.preprocessing import LabelEncoder,OneHotEncoder\n",
    "labelencoder_x_1 = LabelEncoder()\n",
    "x[:,1] = labelencoder_x_1.fit_transform(x[:,1])\n",
    "labelencoder_x_2 = LabelEncoder()\n",
    "x[:,2] = labelencoder_x_2.fit_transform(x[:,2])\n",
    "onehotencoder = OneHotEncoder(categorical_features = [1])\n",
    "x = onehotencoder.fit_transform(x).toarray()\n",
    "x = x[:,1:]\n"
   ]
  },
  {
   "cell_type": "code",
   "execution_count": 35,
   "metadata": {},
   "outputs": [],
   "source": [
    "# Splitting the training set into train set and test set\n",
    "from sklearn.model_selection import train_test_split\n",
    "x_train,x_test,y_train,y_test = train_test_split(x, y, test_size = 0.2, random_state = 0)"
   ]
  },
  {
   "cell_type": "code",
   "execution_count": 36,
   "metadata": {},
   "outputs": [],
   "source": [
    "# Feature Scaling\n",
    "from sklearn.preprocessing import StandardScaler\n",
    "sc = StandardScaler()\n",
    "x_train = sc.fit_transform(x_train)\n",
    "x_test = sc.fit_transform(x_test)\n"
   ]
  },
  {
   "cell_type": "markdown",
   "metadata": {},
   "source": [
    " # TOWARDS ANN "
   ]
  },
  {
   "cell_type": "code",
   "execution_count": 37,
   "metadata": {},
   "outputs": [],
   "source": [
    "import keras\n",
    "from keras.models import Sequential\n",
    "from keras.layers import Dense"
   ]
  },
  {
   "cell_type": "code",
   "execution_count": 38,
   "metadata": {},
   "outputs": [],
   "source": [
    "# Initialising the ANN\n",
    "classifier = Sequential()"
   ]
  },
  {
   "cell_type": "code",
   "execution_count": 41,
   "metadata": {},
   "outputs": [],
   "source": [
    "# Adding the input layer and the first hidden layer\n",
    "classifier.add(Dense(units = 6,kernel_initializer = 'uniform',activation = 'relu', input_dim = 11))"
   ]
  },
  {
   "cell_type": "code",
   "execution_count": 42,
   "metadata": {},
   "outputs": [],
   "source": [
    "# Adding second hidden layer \n",
    "classifier.add(Dense(units = 6,kernel_initializer = 'uniform',activation= 'relu'))"
   ]
  },
  {
   "cell_type": "code",
   "execution_count": 43,
   "metadata": {},
   "outputs": [],
   "source": [
    "# Adding the output layer\n",
    "classifier.add(Dense(units = 1,kernel_initializer='uniform', activation= 'sigmoid' ))"
   ]
  },
  {
   "cell_type": "code",
   "execution_count": 45,
   "metadata": {},
   "outputs": [],
   "source": [
    "# Compiling the ANN\n",
    "classifier.compile(optimizer='adam',loss='binary_crossentropy',metrics=['accuracy'])"
   ]
  },
  {
   "cell_type": "code",
   "execution_count": 46,
   "metadata": {},
   "outputs": [
    {
     "name": "stdout",
     "output_type": "stream",
     "text": [
      "WARNING:tensorflow:From C:\\Users\\User\\Anaconda3\\lib\\site-packages\\tensorflow\\python\\ops\\math_ops.py:3066: to_int32 (from tensorflow.python.ops.math_ops) is deprecated and will be removed in a future version.\n",
      "Instructions for updating:\n",
      "Use tf.cast instead.\n",
      "Epoch 1/100\n",
      "8000/8000 [==============================] - ETA: 0s - loss: 0.4908 - acc: 0.794 - 6s 699us/step - loss: 0.4854 - acc: 0.7959\n",
      "Epoch 2/100\n",
      "8000/8000 [==============================] - 1s 111us/step - loss: 0.4300 - acc: 0.7960\n",
      "Epoch 3/100\n",
      "8000/8000 [==============================] - 1s 115us/step - loss: 0.4248 - acc: 0.7962\n",
      "Epoch 4/100\n",
      "8000/8000 [==============================] - 1s 113us/step - loss: 0.4205 - acc: 0.8180\n",
      "Epoch 5/100\n",
      "8000/8000 [==============================] - 1s 115us/step - loss: 0.4181 - acc: 0.8239\n",
      "Epoch 6/100\n",
      "8000/8000 [==============================] - 1s 115us/step - loss: 0.4158 - acc: 0.8275\n",
      "Epoch 7/100\n",
      "8000/8000 [==============================] - 1s 115us/step - loss: 0.4142 - acc: 0.8296\n",
      "Epoch 8/100\n",
      "8000/8000 [==============================] - 1s 143us/step - loss: 0.4124 - acc: 0.8312\n",
      "Epoch 9/100\n",
      "8000/8000 [==============================] - 1s 125us/step - loss: 0.4116 - acc: 0.8327\n",
      "Epoch 10/100\n",
      "8000/8000 [==============================] - 1s 129us/step - loss: 0.4112 - acc: 0.8341\n",
      "Epoch 11/100\n",
      "8000/8000 [==============================] - 1s 131us/step - loss: 0.4102 - acc: 0.8342\n",
      "Epoch 12/100\n",
      "8000/8000 [==============================] - 1s 143us/step - loss: 0.4092 - acc: 0.8346\n",
      "Epoch 13/100\n",
      "8000/8000 [==============================] - 1s 129us/step - loss: 0.4087 - acc: 0.8351\n",
      "Epoch 14/100\n",
      "8000/8000 [==============================] - 1s 127us/step - loss: 0.4081 - acc: 0.8357\n",
      "Epoch 15/100\n",
      "8000/8000 [==============================] - 1s 127us/step - loss: 0.4076 - acc: 0.8355\n",
      "Epoch 16/100\n",
      "8000/8000 [==============================] - 1s 143us/step - loss: 0.4069 - acc: 0.8337\n",
      "Epoch 17/100\n",
      "8000/8000 [==============================] - 1s 129us/step - loss: 0.4061 - acc: 0.8349\n",
      "Epoch 18/100\n",
      "8000/8000 [==============================] - 1s 127us/step - loss: 0.4055 - acc: 0.8342\n",
      "Epoch 19/100\n",
      "8000/8000 [==============================] - 1s 125us/step - loss: 0.4060 - acc: 0.8341\n",
      "Epoch 20/100\n",
      "8000/8000 [==============================] - 1s 139us/step - loss: 0.4058 - acc: 0.8344\n",
      "Epoch 21/100\n",
      "8000/8000 [==============================] - 1s 131us/step - loss: 0.4050 - acc: 0.8355\n",
      "Epoch 22/100\n",
      "8000/8000 [==============================] - 1s 127us/step - loss: 0.4050 - acc: 0.8356\n",
      "Epoch 23/100\n",
      "8000/8000 [==============================] - 1s 146us/step - loss: 0.4048 - acc: 0.8340\n",
      "Epoch 24/100\n",
      "8000/8000 [==============================] - 1s 156us/step - loss: 0.4045 - acc: 0.8325\n",
      "Epoch 25/100\n",
      "8000/8000 [==============================] - 1s 144us/step - loss: 0.4040 - acc: 0.8344\n",
      "Epoch 26/100\n",
      "8000/8000 [==============================] - 1s 150us/step - loss: 0.4041 - acc: 0.8339\n",
      "Epoch 27/100\n",
      "8000/8000 [==============================] - 1s 127us/step - loss: 0.4037 - acc: 0.8339\n",
      "Epoch 28/100\n",
      "8000/8000 [==============================] - 1s 125us/step - loss: 0.4035 - acc: 0.8346\n",
      "Epoch 29/100\n",
      "8000/8000 [==============================] - 1s 129us/step - loss: 0.4037 - acc: 0.8341\n",
      "Epoch 30/100\n",
      "8000/8000 [==============================] - 1s 158us/step - loss: 0.4031 - acc: 0.8360\n",
      "Epoch 31/100\n",
      "8000/8000 [==============================] - 1s 131us/step - loss: 0.4033 - acc: 0.8352\n",
      "Epoch 32/100\n",
      "8000/8000 [==============================] - 1s 127us/step - loss: 0.4026 - acc: 0.8349\n",
      "Epoch 33/100\n",
      "8000/8000 [==============================] - 1s 123us/step - loss: 0.4032 - acc: 0.8346\n",
      "Epoch 34/100\n",
      "8000/8000 [==============================] - 1s 124us/step - loss: 0.4023 - acc: 0.8340\n",
      "Epoch 35/100\n",
      "8000/8000 [==============================] - 1s 121us/step - loss: 0.4029 - acc: 0.8347\n",
      "Epoch 36/100\n",
      "8000/8000 [==============================] - 1s 119us/step - loss: 0.4024 - acc: 0.8361\n",
      "Epoch 37/100\n",
      "8000/8000 [==============================] - 1s 121us/step - loss: 0.4027 - acc: 0.8337\n",
      "Epoch 38/100\n",
      "8000/8000 [==============================] - 1s 143us/step - loss: 0.4024 - acc: 0.8340\n",
      "Epoch 39/100\n",
      "8000/8000 [==============================] - 1s 143us/step - loss: 0.4030 - acc: 0.8341\n",
      "Epoch 40/100\n",
      "8000/8000 [==============================] - 1s 135us/step - loss: 0.4025 - acc: 0.8347\n",
      "Epoch 41/100\n",
      "8000/8000 [==============================] - 1s 123us/step - loss: 0.4023 - acc: 0.8347\n",
      "Epoch 42/100\n",
      "8000/8000 [==============================] - 1s 119us/step - loss: 0.4019 - acc: 0.8351\n",
      "Epoch 43/100\n",
      "8000/8000 [==============================] - 1s 119us/step - loss: 0.4017 - acc: 0.8361\n",
      "Epoch 44/100\n",
      "8000/8000 [==============================] - 1s 121us/step - loss: 0.4021 - acc: 0.8346\n",
      "Epoch 45/100\n",
      "8000/8000 [==============================] - 1s 121us/step - loss: 0.4022 - acc: 0.8337\n",
      "Epoch 46/100\n",
      "8000/8000 [==============================] - 1s 119us/step - loss: 0.4022 - acc: 0.8349\n",
      "Epoch 47/100\n",
      "8000/8000 [==============================] - 1s 150us/step - loss: 0.4015 - acc: 0.8350\n",
      "Epoch 48/100\n",
      "8000/8000 [==============================] - 1s 123us/step - loss: 0.4021 - acc: 0.8332\n",
      "Epoch 49/100\n",
      "8000/8000 [==============================] - 1s 129us/step - loss: 0.4018 - acc: 0.8351\n",
      "Epoch 50/100\n",
      "8000/8000 [==============================] - 1s 119us/step - loss: 0.4014 - acc: 0.8354\n",
      "Epoch 51/100\n",
      "8000/8000 [==============================] - 1s 133us/step - loss: 0.4021 - acc: 0.8347\n",
      "Epoch 52/100\n",
      "8000/8000 [==============================] - 1s 131us/step - loss: 0.4021 - acc: 0.8346\n",
      "Epoch 53/100\n",
      "8000/8000 [==============================] - 1s 133us/step - loss: 0.4021 - acc: 0.8351\n",
      "Epoch 54/100\n",
      "8000/8000 [==============================] - 1s 166us/step - loss: 0.4017 - acc: 0.8349\n",
      "Epoch 55/100\n",
      "8000/8000 [==============================] - 1s 117us/step - loss: 0.4019 - acc: 0.8347\n",
      "Epoch 56/100\n",
      "8000/8000 [==============================] - 1s 103us/step - loss: 0.4015 - acc: 0.8331\n",
      "Epoch 57/100\n",
      "8000/8000 [==============================] - 1s 139us/step - loss: 0.4018 - acc: 0.8356\n",
      "Epoch 58/100\n",
      "8000/8000 [==============================] - 1s 180us/step - loss: 0.4013 - acc: 0.8336\n",
      "Epoch 59/100\n",
      "8000/8000 [==============================] - 1s 136us/step - loss: 0.4016 - acc: 0.8332\n",
      "Epoch 60/100\n",
      "8000/8000 [==============================] - 1s 133us/step - loss: 0.4013 - acc: 0.8347\n",
      "Epoch 61/100\n",
      "8000/8000 [==============================] - 1s 132us/step - loss: 0.4014 - acc: 0.8344\n",
      "Epoch 62/100\n",
      "8000/8000 [==============================] - ETA: 0s - loss: 0.4010 - acc: 0.835 - 1s 129us/step - loss: 0.4019 - acc: 0.8350\n",
      "Epoch 63/100\n",
      "8000/8000 [==============================] - 1s 130us/step - loss: 0.4019 - acc: 0.8351\n",
      "Epoch 64/100\n",
      "8000/8000 [==============================] - 1s 131us/step - loss: 0.4016 - acc: 0.8349\n",
      "Epoch 65/100\n",
      "8000/8000 [==============================] - 1s 130us/step - loss: 0.4017 - acc: 0.8345\n",
      "Epoch 66/100\n",
      "8000/8000 [==============================] - ETA: 0s - loss: 0.4017 - acc: 0.834 - 1s 129us/step - loss: 0.4016 - acc: 0.8344\n",
      "Epoch 67/100\n",
      "8000/8000 [==============================] - 1s 132us/step - loss: 0.4011 - acc: 0.8355\n",
      "Epoch 68/100\n",
      "8000/8000 [==============================] - 1s 171us/step - loss: 0.4013 - acc: 0.8352\n",
      "Epoch 69/100\n",
      "8000/8000 [==============================] - 1s 176us/step - loss: 0.4012 - acc: 0.8340\n",
      "Epoch 70/100\n",
      "8000/8000 [==============================] - 1s 152us/step - loss: 0.4012 - acc: 0.8354\n",
      "Epoch 71/100\n",
      "8000/8000 [==============================] - 1s 144us/step - loss: 0.4015 - acc: 0.8356\n",
      "Epoch 72/100\n",
      "8000/8000 [==============================] - 1s 174us/step - loss: 0.4013 - acc: 0.8350\n",
      "Epoch 73/100\n",
      "8000/8000 [==============================] - 1s 137us/step - loss: 0.4011 - acc: 0.8347\n",
      "Epoch 74/100\n",
      "8000/8000 [==============================] - 1s 135us/step - loss: 0.4011 - acc: 0.8354\n",
      "Epoch 75/100\n",
      "8000/8000 [==============================] - 1s 133us/step - loss: 0.4007 - acc: 0.8351\n",
      "Epoch 76/100\n",
      "8000/8000 [==============================] - 1s 137us/step - loss: 0.4016 - acc: 0.8344\n",
      "Epoch 77/100\n",
      "8000/8000 [==============================] - 1s 143us/step - loss: 0.4011 - acc: 0.8344\n",
      "Epoch 78/100\n",
      "8000/8000 [==============================] - 1s 129us/step - loss: 0.4008 - acc: 0.8345\n",
      "Epoch 79/100\n",
      "8000/8000 [==============================] - 1s 125us/step - loss: 0.4010 - acc: 0.8340\n",
      "Epoch 80/100\n",
      "8000/8000 [==============================] - 1s 131us/step - loss: 0.4012 - acc: 0.8341\n",
      "Epoch 81/100\n",
      "8000/8000 [==============================] - 1s 129us/step - loss: 0.4011 - acc: 0.8341\n",
      "Epoch 82/100\n",
      "8000/8000 [==============================] - 1s 144us/step - loss: 0.4010 - acc: 0.8359\n",
      "Epoch 83/100\n",
      "8000/8000 [==============================] - 1s 148us/step - loss: 0.4014 - acc: 0.8336\n",
      "Epoch 84/100\n",
      "8000/8000 [==============================] - 1s 129us/step - loss: 0.4012 - acc: 0.8345\n",
      "Epoch 85/100\n",
      "8000/8000 [==============================] - 1s 129us/step - loss: 0.4010 - acc: 0.8354\n",
      "Epoch 86/100\n",
      "8000/8000 [==============================] - 1s 131us/step - loss: 0.4012 - acc: 0.8339\n",
      "Epoch 87/100\n",
      "8000/8000 [==============================] - 1s 125us/step - loss: 0.4007 - acc: 0.8341\n",
      "Epoch 88/100\n",
      "8000/8000 [==============================] - 1s 127us/step - loss: 0.4009 - acc: 0.8355\n",
      "Epoch 89/100\n",
      "8000/8000 [==============================] - 1s 127us/step - loss: 0.4010 - acc: 0.8346\n",
      "Epoch 90/100\n",
      "8000/8000 [==============================] - 1s 129us/step - loss: 0.4008 - acc: 0.8342\n",
      "Epoch 91/100\n",
      "8000/8000 [==============================] - 1s 131us/step - loss: 0.4011 - acc: 0.8344\n",
      "Epoch 92/100\n",
      "8000/8000 [==============================] - 1s 129us/step - loss: 0.4017 - acc: 0.8354\n",
      "Epoch 93/100\n",
      "8000/8000 [==============================] - 1s 127us/step - loss: 0.4011 - acc: 0.8340\n",
      "Epoch 94/100\n",
      "8000/8000 [==============================] - 1s 123us/step - loss: 0.4011 - acc: 0.8339\n",
      "Epoch 95/100\n",
      "8000/8000 [==============================] - 1s 123us/step - loss: 0.4010 - acc: 0.8337\n",
      "Epoch 96/100\n",
      "8000/8000 [==============================] - 1s 129us/step - loss: 0.4007 - acc: 0.8341\n",
      "Epoch 97/100\n",
      "8000/8000 [==============================] - 1s 125us/step - loss: 0.4016 - acc: 0.8334\n",
      "Epoch 98/100\n",
      "8000/8000 [==============================] - 1s 160us/step - loss: 0.4007 - acc: 0.8369\n",
      "Epoch 99/100\n",
      "8000/8000 [==============================] - 1s 127us/step - loss: 0.4006 - acc: 0.8346\n",
      "Epoch 100/100\n",
      "8000/8000 [==============================] - 1s 125us/step - loss: 0.4009 - acc: 0.8352\n"
     ]
    },
    {
     "data": {
      "text/plain": [
       "<keras.callbacks.History at 0x19dc432fe48>"
      ]
     },
     "execution_count": 46,
     "metadata": {},
     "output_type": "execute_result"
    }
   ],
   "source": [
    "# Fitting ANN to the training set\n",
    "classifier.fit(x_train,y_train,batch_size=10,epochs=100)"
   ]
  },
  {
   "cell_type": "code",
   "execution_count": 51,
   "metadata": {},
   "outputs": [],
   "source": [
    "\n",
    "# Predicting the Test set results\n",
    "y_pred = classifier.predict(x_test)\n",
    "y_pred = (y_pred > 0.5)\n",
    "\n",
    "# Making the Confusion Matrix\n",
    "from sklearn.metrics import confusion_matrix\n",
    "cm = confusion_matrix(y_test, y_pred)"
   ]
  },
  {
   "cell_type": "code",
   "execution_count": 54,
   "metadata": {},
   "outputs": [
    {
     "data": {
      "text/plain": [
       "array([[1550,   45],\n",
       "       [ 274,  131]], dtype=int64)"
      ]
     },
     "execution_count": 54,
     "metadata": {},
     "output_type": "execute_result"
    }
   ],
   "source": [
    "\n",
    "cm"
   ]
  },
  {
   "cell_type": "code",
   "execution_count": 55,
   "metadata": {},
   "outputs": [
    {
     "data": {
      "text/plain": [
       "array([[False],\n",
       "       [False],\n",
       "       [False],\n",
       "       ...,\n",
       "       [False],\n",
       "       [False],\n",
       "       [False]])"
      ]
     },
     "execution_count": 55,
     "metadata": {},
     "output_type": "execute_result"
    }
   ],
   "source": [
    "y_pred"
   ]
  },
  {
   "cell_type": "code",
   "execution_count": null,
   "metadata": {},
   "outputs": [],
   "source": []
  },
  {
   "cell_type": "code",
   "execution_count": null,
   "metadata": {},
   "outputs": [],
   "source": []
  },
  {
   "cell_type": "code",
   "execution_count": null,
   "metadata": {},
   "outputs": [],
   "source": []
  },
  {
   "cell_type": "code",
   "execution_count": null,
   "metadata": {},
   "outputs": [],
   "source": []
  },
  {
   "cell_type": "code",
   "execution_count": null,
   "metadata": {},
   "outputs": [],
   "source": []
  },
  {
   "cell_type": "code",
   "execution_count": null,
   "metadata": {},
   "outputs": [],
   "source": []
  },
  {
   "cell_type": "code",
   "execution_count": null,
   "metadata": {},
   "outputs": [],
   "source": []
  },
  {
   "cell_type": "code",
   "execution_count": null,
   "metadata": {},
   "outputs": [],
   "source": []
  },
  {
   "cell_type": "code",
   "execution_count": null,
   "metadata": {},
   "outputs": [],
   "source": []
  },
  {
   "cell_type": "code",
   "execution_count": null,
   "metadata": {},
   "outputs": [],
   "source": []
  },
  {
   "cell_type": "code",
   "execution_count": null,
   "metadata": {},
   "outputs": [],
   "source": []
  },
  {
   "cell_type": "code",
   "execution_count": null,
   "metadata": {},
   "outputs": [],
   "source": [
    "\n"
   ]
  }
 ],
 "metadata": {
  "kernelspec": {
   "display_name": "Python 3",
   "language": "python",
   "name": "python3"
  },
  "language_info": {
   "codemirror_mode": {
    "name": "ipython",
    "version": 3
   },
   "file_extension": ".py",
   "mimetype": "text/x-python",
   "name": "python",
   "nbconvert_exporter": "python",
   "pygments_lexer": "ipython3",
   "version": "3.7.3"
  },
  "varInspector": {
   "cols": {
    "lenName": 16,
    "lenType": 16,
    "lenVar": 40
   },
   "kernels_config": {
    "python": {
     "delete_cmd_postfix": "",
     "delete_cmd_prefix": "del ",
     "library": "var_list.py",
     "varRefreshCmd": "print(var_dic_list())"
    },
    "r": {
     "delete_cmd_postfix": ") ",
     "delete_cmd_prefix": "rm(",
     "library": "var_list.r",
     "varRefreshCmd": "cat(var_dic_list()) "
    }
   },
   "oldHeight": 428.86,
   "position": {
    "height": "40px",
    "left": "617.22px",
    "right": "20px",
    "top": "42px",
    "width": "800px"
   },
   "types_to_exclude": [
    "module",
    "function",
    "builtin_function_or_method",
    "instance",
    "_Feature"
   ],
   "varInspector_section_display": "none",
   "window_display": true
  }
 },
 "nbformat": 4,
 "nbformat_minor": 2
}
